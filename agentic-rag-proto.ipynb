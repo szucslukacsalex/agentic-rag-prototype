{
 "cells": [
  {
   "cell_type": "code",
   "execution_count": null,
   "id": "6902b18d",
   "metadata": {},
   "outputs": [],
   "source": [
    "from typing import List, TypedDict, Union, Optional\n",
    "\n",
    "from langchain_core.documents import Document\n",
    "from langchain_community.document_loaders import PyPDFDirectoryLoader\n",
    "from langchain_text_splitters import RecursiveCharacterTextSplitter\n",
    "from langchain_huggingface import HuggingFaceEmbeddings\n",
    "from langchain_core.embeddings import Embeddings\n",
    "from langchain_chroma import Chroma\n",
    "from langchain_core.messages import AIMessage, HumanMessage\n",
    "from langchain_ollama import OllamaLLM"
   ]
  },
  {
   "cell_type": "markdown",
   "id": "9cf00e3b",
   "metadata": {},
   "source": [
    "# 1. Document preparation"
   ]
  },
  {
   "cell_type": "code",
   "execution_count": 2,
   "id": "962919ce",
   "metadata": {},
   "outputs": [],
   "source": [
    "def prepare_documents(docs_folder: str = \"./pdf_docs\") -> List[Document]:\n",
    "    \"\"\"\n",
    "    Load and split PDF documents from a specified directory.\n",
    "\n",
    "    Args:\n",
    "        docs_folder (str, optional): The file containing folder. Defaults to \"./pdf_docs\".\n",
    "\n",
    "    Returns:\n",
    "        List[Document]: A list of Document objects containing the text from the PDFs split into chunks.\n",
    "    \"\"\"\n",
    "\n",
    "    loader = PyPDFDirectoryLoader(\n",
    "        path=docs_folder,\n",
    "        glob=\"**/*.pdf\",\n",
    "        silent_errors=True\n",
    "    )\n",
    "\n",
    "    documents = loader.load()\n",
    "\n",
    "    text_splitter = RecursiveCharacterTextSplitter(\n",
    "        chunk_size=1000,\n",
    "        chunk_overlap=200,\n",
    "        length_function=len,\n",
    "        add_start_index=True,\n",
    "    )\n",
    "\n",
    "    chunks = text_splitter.split_documents(documents)\n",
    "\n",
    "    return chunks"
   ]
  },
  {
   "cell_type": "code",
   "execution_count": 3,
   "id": "039a2f6b",
   "metadata": {},
   "outputs": [],
   "source": [
    "chunks = prepare_documents()"
   ]
  },
  {
   "cell_type": "markdown",
   "id": "4a939866",
   "metadata": {},
   "source": [
    "# 2. Vector store creation"
   ]
  },
  {
   "cell_type": "code",
   "execution_count": 4,
   "id": "2838679e",
   "metadata": {},
   "outputs": [],
   "source": [
    "embedding_model = HuggingFaceEmbeddings(\n",
    "    model_name=\"sentence-transformers/all-MiniLM-L6-v2\",\n",
    ")"
   ]
  },
  {
   "cell_type": "code",
   "execution_count": 5,
   "id": "006660f4",
   "metadata": {},
   "outputs": [],
   "source": [
    "def create_chroma_vector_store(documents: List[Document], embedding_model: Embeddings, persist_dir: str = \"./chroma_db\") -> Chroma:\n",
    "    \"\"\"\n",
    "    Create a Chroma vector store from the provided documents and embedding model.\n",
    "\n",
    "    Args:\n",
    "        documents (List[Document]): List of Document objects to be stored in the vector store.\n",
    "        embedding_model (Embeddings): The embedding model to be used for vectorization.\n",
    "        dir (str, optional): Directory to persist the collection. Defaults to \"./chroma_db\".\n",
    "\n",
    "    Returns:\n",
    "        Chroma: _description_\n",
    "    \"\"\"\n",
    "    vector_store = Chroma.from_documents(\n",
    "        documents=documents,\n",
    "        embedding=embedding_model,\n",
    "        persist_directory=persist_dir,\n",
    "    )\n",
    "    return vector_store"
   ]
  },
  {
   "cell_type": "code",
   "execution_count": 6,
   "id": "f108bda3",
   "metadata": {},
   "outputs": [],
   "source": [
    "vector_store = create_chroma_vector_store(chunks, embedding_model)"
   ]
  },
  {
   "cell_type": "markdown",
   "id": "8b7b1087",
   "metadata": {},
   "source": [
    "# 3. Agent state definition"
   ]
  },
  {
   "cell_type": "code",
   "execution_count": null,
   "id": "1e0faa6c",
   "metadata": {},
   "outputs": [],
   "source": [
    "class AgentState(TypedDict):\n",
    "    messages: List[Union[HumanMessage, AIMessage]]\n",
    "    context: Optional[str]\n",
    "    query: str\n",
    "    retrieval_strategy: Optional[str]\n",
    "    next_nodes: Optional[List[str]]"
   ]
  },
  {
   "cell_type": "markdown",
   "id": "2dc43089",
   "metadata": {},
   "source": [
    "# 4. LLM model definition"
   ]
  },
  {
   "cell_type": "code",
   "execution_count": null,
   "id": "8c68f5f1",
   "metadata": {},
   "outputs": [],
   "source": [
    "llm = OllamaLLM(model=\"llama3\")"
   ]
  },
  {
   "cell_type": "markdown",
   "id": "de666f2c",
   "metadata": {},
   "source": [
    "# 5. Node implementations"
   ]
  },
  {
   "cell_type": "markdown",
   "id": "54c4c038",
   "metadata": {},
   "source": [
    "### Orchestrator node"
   ]
  },
  {
   "cell_type": "code",
   "execution_count": null,
   "id": "9f674014",
   "metadata": {},
   "outputs": [],
   "source": [
    "def orchestrator(state: AgentState) -> AgentState:\n",
    "    \"\"\"\n",
    "    Orchestrator function to determine the next steps based on the user's query.\n",
    "\n",
    "    Args:\n",
    "        state (AgentState): The current state of the agent, including the user's query and context.\n",
    "\n",
    "    Returns:\n",
    "        AgentState: The updated state of the agent with the next nodes to process.\n",
    "    \"\"\"\n",
    "\n",
    "    query = state[\"query\"]\n",
    "\n",
    "    analysis_prompt = f\"\"\"\n",
    "    Analyze the following user question and determine the appropriate processing flow:\n",
    "\n",
    "    QUESTION: {query}\n",
    "\n",
    "    Choose from the following options:\n",
    "    1. Factual information search\n",
    "    2. Complex analysis\n",
    "    3. Simple question\n",
    "    \"\"\"\n",
    "\n",
    "    analysis_result = llm.invoke(analysis_prompt)\n",
    "\n",
    "    if \"1\" in analysis_result:\n",
    "        state[\"retrieval_strategy\"] = \"multi_step\"\n",
    "        state[\"next_nodes\"] = [\"keyword_analyzer\", \"document_retriever\"]\n",
    "    elif \"2\" in analysis_result:\n",
    "        state[\"retrieval_strategy\"] = \"deep_analysis\"\n",
    "        state[\"next_nodes\"] = [\"keyword_analyzer\", \"document_retriever\", \"summarizer\"]\n",
    "    else:\n",
    "        state[\"retrieval_strategy\"] = \"direct\"\n",
    "        state[\"next_nodes\"] = [\"response_generator\"]\n",
    "\n",
    "    state[\"context\"] = f\"Type of the question: {analysis_result.strip()}\"\n",
    "    return state"
   ]
  }
 ],
 "metadata": {
  "kernelspec": {
   "display_name": ".venv",
   "language": "python",
   "name": "python3"
  },
  "language_info": {
   "codemirror_mode": {
    "name": "ipython",
    "version": 3
   },
   "file_extension": ".py",
   "mimetype": "text/x-python",
   "name": "python",
   "nbconvert_exporter": "python",
   "pygments_lexer": "ipython3",
   "version": "3.13.3"
  }
 },
 "nbformat": 4,
 "nbformat_minor": 5
}
