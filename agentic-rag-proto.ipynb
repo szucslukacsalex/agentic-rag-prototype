{
 "cells": [
  {
   "cell_type": "code",
   "execution_count": 8,
   "id": "6902b18d",
   "metadata": {},
   "outputs": [],
   "source": [
    "from typing import List\n",
    "\n",
    "from langchain_core.documents import Document\n",
    "from langchain_community.document_loaders import PyPDFDirectoryLoader\n",
    "from langchain_text_splitters import RecursiveCharacterTextSplitter"
   ]
  },
  {
   "cell_type": "code",
   "execution_count": 9,
   "id": "962919ce",
   "metadata": {},
   "outputs": [],
   "source": [
    "def prepare_documents(docs_folder: str = \"./pdf_docs\") -> List[Document]:\n",
    "    \"\"\"\n",
    "    Load and split PDF documents from a specified directory.\n",
    "\n",
    "    Args:\n",
    "        docs_folder (str, optional): The file containing folder. Defaults to \"./pdf_docs\".\n",
    "\n",
    "    Returns:\n",
    "        List[Document]: A list of Document objects containing the text from the PDFs split into chunks.\n",
    "    \"\"\"\n",
    "\n",
    "    loader = PyPDFDirectoryLoader(\n",
    "        path=docs_folder,\n",
    "        glob=\"**/*.pdf\",\n",
    "        silent_errors=True\n",
    "    )\n",
    "\n",
    "    documents = loader.load()\n",
    "\n",
    "    text_splitter = RecursiveCharacterTextSplitter(\n",
    "        chunk_size=1000,\n",
    "        chunk_overlap=200,\n",
    "        length_function=len,\n",
    "        add_start_index=True,\n",
    "    )\n",
    "\n",
    "    chunks = text_splitter.split_documents(documents)\n",
    "\n",
    "    return chunks"
   ]
  },
  {
   "cell_type": "code",
   "execution_count": 10,
   "id": "039a2f6b",
   "metadata": {},
   "outputs": [],
   "source": [
    "chunks = prepare_documents()"
   ]
  }
 ],
 "metadata": {
  "language_info": {
   "name": "python"
  }
 },
 "nbformat": 4,
 "nbformat_minor": 5
}
